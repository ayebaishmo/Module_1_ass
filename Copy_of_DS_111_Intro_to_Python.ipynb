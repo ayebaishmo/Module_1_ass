{
  "cells": [
    {
      "cell_type": "markdown",
      "metadata": {
        "id": "view-in-github",
        "colab_type": "text"
      },
      "source": [
        "<a href=\"https://colab.research.google.com/github/ayebaishmo/Module_1_ass/blob/main/Copy_of_DS_111_Intro_to_Python.ipynb\" target=\"_parent\"><img src=\"https://colab.research.google.com/assets/colab-badge.svg\" alt=\"Open In Colab\"/></a>"
      ]
    },
    {
      "cell_type": "markdown",
      "id": "1adef5c8",
      "metadata": {
        "id": "1adef5c8"
      },
      "source": [
        "\n",
        "# Introduction to Python"
      ]
    },
    {
      "cell_type": "markdown",
      "id": "8c9755c2",
      "metadata": {
        "id": "8c9755c2"
      },
      "source": [
        "> - Objective 01 - Submit Assignments and Save Work via Canvas\n",
        "> - Objective 02 - Working with Canvas, Colab, and Class Tools\n",
        "> - Objective 03 - Determine and describe Python datatypes\n",
        "> - Objective 04 - Understand Python Syntax, Loops and Conditionals\n",
        "\n"
      ]
    },
    {
      "cell_type": "markdown",
      "id": "40f820a3",
      "metadata": {
        "id": "40f820a3"
      },
      "source": [
        "# Working with Canvas and Colab"
      ]
    },
    {
      "cell_type": "markdown",
      "id": "4904bfd2",
      "metadata": {
        "id": "4904bfd2"
      },
      "source": [
        "## Overview\n",
        "\n",
        "We will use Canvas, Colab and CodeGrade to work on, submit and evaluate projects.\n",
        "\n",
        "**Canvas** is a learning management system you that provides extra information you can use to help prepare for Guided Projects and as a resource when you are working on your individual sproject each afternoon.  \n",
        "\n",
        "**GitHub** is where the notebook for your Module Project is located.\n",
        "\n",
        "**Colab** (where you are right now) is the web-based notebook we will use for working on guided and module projects and sprint challenges.\n",
        "\n",
        "**CodeGrade** is the system that will evaluate your module projects and all your Sprint Challenges.\n",
        "\n",
        "**You will  access to and submit your module projects and sprint challenges in Canvas.**"
      ]
    },
    {
      "cell_type": "markdown",
      "id": "2719bccc",
      "metadata": {
        "id": "2719bccc"
      },
      "source": [
        "### 1) Open Canvas and navigate to the course for the sprint we are currently in.\n",
        "\n",
        "In this case, it is **Introduction to Python DS1.1 DSXX** where XX is your cohort number.\n",
        "\n",
        "\n",
        "The course will automatically open to the Overview page were you can take a look at all of the concepts we'll be covering throughout the Sprint.  Click on the links to see what will be covered in each module.\n",
        "\n",
        "When you click on Modules on the left hand side, you'll see content for each module divided into three sections:\n",
        "* Warmup is an intro to what will be covered during Guided Project\n",
        "* Engage is where you'll see the module project, the check for understanding, and pulse check.\n",
        "* Review is where you can find links to previous class recordings."
      ]
    },
    {
      "cell_type": "markdown",
      "id": "37eb5477",
      "metadata": {
        "id": "37eb5477"
      },
      "source": [
        "### 2) How to access the Guided and Module Project from Canvas:\n",
        "\n",
        "Under **Engage** in Canvas, click on the **Module # Project** link. This will direct you to Github.\n",
        "\n",
        "The files that we will be working with primarily during the course have the file extension: .ipynb for \"IPython Notebook\" any of these are notebooks that we can open in Google Colab or Jupyter Notebook.\n",
        "\n",
        "You will find all lecture materials and your daily assignments in the Github repositories."
      ]
    },
    {
      "cell_type": "markdown",
      "id": "f04cf99d",
      "metadata": {
        "id": "f04cf99d"
      },
      "source": [
        "### 3) Install the following Google Chrome extension. This will open any .ipynb file from GitHub directly in Google Colab:\n",
        "\n",
        "[Google Chrome Extension to Open .ipynb files easily in Google Colab](https://chrome.google.com/webstore/detail/open-in-colab/iogfkhleblhcpcekbiedikdehleodpjo?hl=en)\n",
        "\n",
        "When open in in Google Colab, go to **File** --> **\"Save a Copy in Drive\"**"
      ]
    },
    {
      "cell_type": "markdown",
      "id": "78ff3be5",
      "metadata": {
        "id": "78ff3be5"
      },
      "source": [
        "### 4) Upload your daily project to CodeGrade\n",
        "Under **Module Project**, click **Load Module Project in a new window** to submit your work."
      ]
    },
    {
      "cell_type": "markdown",
      "id": "21164afa",
      "metadata": {
        "id": "21164afa"
      },
      "source": [
        "# What is Python?"
      ]
    },
    {
      "cell_type": "markdown",
      "id": "ed02dbf4",
      "metadata": {
        "id": "ed02dbf4"
      },
      "source": [
        "From the [source](https://www.python.org/doc/essays/blurb/):\n",
        "\n",
        "\"Python is an interpreted, object-oriented, high-level programming language with dynamic semantics. Its high-level built-in data structures, combined with dynamic typing and dynamic binding, make it very attractive for Rapid Application Development, as well as for use as a scripting or glue language to connect existing components together. Python's simple, easy to learn syntax emphasizes readability and therefore reduces the cost of program maintenance. Python supports modules and packages, which encourages program modularity and code reuse. The Python interpreter and the extensive standard library are available in source or binary form without charge for all major platforms, and can be freely distributed.\"\n"
      ]
    },
    {
      "cell_type": "markdown",
      "id": "db87a2de",
      "metadata": {
        "id": "db87a2de"
      },
      "source": [
        "# Python and Notebooks (Colab or Jupyter)\n",
        "\n",
        "We will be using Colab for Unit 1. Colab is a Jupyter Notebook environment that runs on the cloud and stores files in your Google Drive."
      ]
    },
    {
      "cell_type": "code",
      "execution_count": null,
      "id": "5b65aca3",
      "metadata": {
        "id": "5b65aca3"
      },
      "outputs": [],
      "source": [
        "#run the following cell by clicking on the play button next to this text\n",
        "\"Hello\""
      ]
    },
    {
      "cell_type": "code",
      "execution_count": null,
      "id": "6997ad18",
      "metadata": {
        "id": "6997ad18",
        "colab": {
          "base_uri": "https://localhost:8080/"
        },
        "outputId": "53f867ac-6352-438c-a0b3-453fe29d81a3"
      },
      "outputs": [
        {
          "output_type": "execute_result",
          "data": {
            "text/plain": [
              "4"
            ]
          },
          "metadata": {},
          "execution_count": 1
        }
      ],
      "source": [
        "#run the following cell by clicking Shift + Return\n",
        "2+2"
      ]
    },
    {
      "cell_type": "markdown",
      "id": "495fe2fe",
      "metadata": {
        "id": "495fe2fe"
      },
      "source": [
        "## Embrace the keyboard shortcuts:\n",
        "- Press 'esc' to enter navigation mode.\n",
        "- The keys 'a' and 'b' create code cells above and below your current cell when in navigation mode.\n",
        "- Click on the 'Tools' tab above to see additional short-cuts.\n",
        "- It's okay to use your mouse. You'll learn to code like a speedster with practice!"
      ]
    },
    {
      "cell_type": "markdown",
      "id": "95419091",
      "metadata": {
        "id": "95419091"
      },
      "source": [
        "## What is a Python Object?"
      ]
    },
    {
      "cell_type": "code",
      "execution_count": null,
      "id": "38d0c5e2",
      "metadata": {
        "id": "38d0c5e2"
      },
      "outputs": [],
      "source": [
        "x = 2\n"
      ]
    },
    {
      "cell_type": "code",
      "execution_count": null,
      "id": "29138b15",
      "metadata": {
        "id": "29138b15"
      },
      "outputs": [],
      "source": [
        "y = 7"
      ]
    },
    {
      "cell_type": "code",
      "execution_count": null,
      "id": "895a1d1a",
      "metadata": {
        "id": "895a1d1a",
        "colab": {
          "base_uri": "https://localhost:8080/"
        },
        "outputId": "cb3cf532-1952-4f7b-aa22-fbe6ddd262b4"
      },
      "outputs": [
        {
          "output_type": "execute_result",
          "data": {
            "text/plain": [
              "9"
            ]
          },
          "metadata": {},
          "execution_count": 6
        }
      ],
      "source": [
        "x + y\n"
      ]
    },
    {
      "cell_type": "code",
      "execution_count": null,
      "id": "5f26f117",
      "metadata": {
        "id": "5f26f117",
        "colab": {
          "base_uri": "https://localhost:8080/"
        },
        "outputId": "827f4734-3e6a-4d7b-939b-49512006a6a6"
      },
      "outputs": [
        {
          "output_type": "stream",
          "name": "stdout",
          "text": [
            "Hello World\n"
          ]
        }
      ],
      "source": [
        "#What are built-in functions?\n",
        "print(\"Hello World\")"
      ]
    },
    {
      "cell_type": "code",
      "execution_count": null,
      "id": "a35187dd",
      "metadata": {
        "id": "a35187dd",
        "colab": {
          "base_uri": "https://localhost:8080/"
        },
        "outputId": "446658a0-eb2c-44ac-b707-00bef015e9d7"
      },
      "outputs": [
        {
          "output_type": "stream",
          "name": "stdout",
          "text": [
            "2\n"
          ]
        },
        {
          "output_type": "execute_result",
          "data": {
            "text/plain": [
              "7"
            ]
          },
          "metadata": {},
          "execution_count": 8
        }
      ],
      "source": [
        "#The print statement?\n",
        "\n",
        "\n",
        "#Difference between output and print statement.\n",
        "\n",
        "#What happens when you include a print statement next to the y object?\n",
        "print(x)\n",
        "y"
      ]
    },
    {
      "cell_type": "code",
      "execution_count": null,
      "id": "18c4971c",
      "metadata": {
        "id": "18c4971c"
      },
      "outputs": [],
      "source": []
    },
    {
      "cell_type": "markdown",
      "id": "1004e67f",
      "metadata": {
        "id": "1004e67f"
      },
      "source": [
        "## Operators"
      ]
    },
    {
      "cell_type": "code",
      "execution_count": null,
      "id": "07abe276",
      "metadata": {
        "id": "07abe276",
        "colab": {
          "base_uri": "https://localhost:8080/"
        },
        "outputId": "2e62ac4a-0952-4b39-ec2b-b6f5fb4ba9b0"
      },
      "outputs": [
        {
          "output_type": "execute_result",
          "data": {
            "text/plain": [
              "9"
            ]
          },
          "metadata": {},
          "execution_count": 9
        }
      ],
      "source": [
        "#+\n",
        "x + y\n"
      ]
    },
    {
      "cell_type": "code",
      "execution_count": null,
      "id": "06bd8490",
      "metadata": {
        "id": "06bd8490",
        "colab": {
          "base_uri": "https://localhost:8080/"
        },
        "outputId": "aba560ca-4ba4-4213-ee23-ca223b5be0fa"
      },
      "outputs": [
        {
          "output_type": "execute_result",
          "data": {
            "text/plain": [
              "5"
            ]
          },
          "metadata": {},
          "execution_count": 10
        }
      ],
      "source": [
        "#-\n",
        "y - x\n"
      ]
    },
    {
      "cell_type": "code",
      "execution_count": null,
      "id": "340c0445",
      "metadata": {
        "id": "340c0445",
        "colab": {
          "base_uri": "https://localhost:8080/"
        },
        "outputId": "5f55654a-3c86-4714-e3ef-d13dd04f5442"
      },
      "outputs": [
        {
          "output_type": "execute_result",
          "data": {
            "text/plain": [
              "14"
            ]
          },
          "metadata": {},
          "execution_count": 11
        }
      ],
      "source": [
        "\n",
        "#*\n",
        "y * x"
      ]
    },
    {
      "cell_type": "code",
      "execution_count": null,
      "id": "048c8c4f",
      "metadata": {
        "id": "048c8c4f",
        "colab": {
          "base_uri": "https://localhost:8080/"
        },
        "outputId": "adae7821-fee2-466d-901b-591309a72972"
      },
      "outputs": [
        {
          "output_type": "execute_result",
          "data": {
            "text/plain": [
              "3.5"
            ]
          },
          "metadata": {},
          "execution_count": 12
        }
      ],
      "source": [
        "\n",
        "#/\n",
        "\n",
        "y / 2"
      ]
    },
    {
      "cell_type": "code",
      "execution_count": null,
      "id": "4c0b8762",
      "metadata": {
        "id": "4c0b8762",
        "colab": {
          "base_uri": "https://localhost:8080/"
        },
        "outputId": "bcab3190-f424-4421-ae6e-7c978ee24589"
      },
      "outputs": [
        {
          "output_type": "execute_result",
          "data": {
            "text/plain": [
              "49"
            ]
          },
          "metadata": {},
          "execution_count": 13
        }
      ],
      "source": [
        "\n",
        "# ** exponotial\n",
        "y ** 2"
      ]
    },
    {
      "cell_type": "code",
      "execution_count": null,
      "id": "c75db545",
      "metadata": {
        "id": "c75db545",
        "colab": {
          "base_uri": "https://localhost:8080/"
        },
        "outputId": "07034903-7407-4efc-98fe-d04ebfbbcf4a"
      },
      "outputs": [
        {
          "output_type": "execute_result",
          "data": {
            "text/plain": [
              "3"
            ]
          },
          "metadata": {},
          "execution_count": 15
        }
      ],
      "source": [
        "#// flow division operators\n",
        "y // 2"
      ]
    },
    {
      "cell_type": "code",
      "execution_count": null,
      "id": "72272e4f",
      "metadata": {
        "id": "72272e4f",
        "colab": {
          "base_uri": "https://localhost:8080/"
        },
        "outputId": "fe8ec402-0168-42e9-c42b-167db497133d"
      },
      "outputs": [
        {
          "output_type": "execute_result",
          "data": {
            "text/plain": [
              "1"
            ]
          },
          "metadata": {},
          "execution_count": 16
        }
      ],
      "source": [
        "#% Remeinder\n",
        "y % 2"
      ]
    },
    {
      "cell_type": "markdown",
      "id": "a716ff76",
      "metadata": {
        "id": "a716ff76"
      },
      "source": [
        "## Booleans"
      ]
    },
    {
      "cell_type": "code",
      "execution_count": null,
      "id": "f0072660",
      "metadata": {
        "id": "f0072660",
        "colab": {
          "base_uri": "https://localhost:8080/"
        },
        "outputId": "9ec62da8-2836-4357-99bd-3cc14aa50a27"
      },
      "outputs": [
        {
          "output_type": "execute_result",
          "data": {
            "text/plain": [
              "True"
            ]
          },
          "metadata": {},
          "execution_count": 31
        }
      ],
      "source": [
        "#print(x == 2)\n",
        "#type(x)\n",
        "#print(x == 3)\n",
        "\n",
        "# Conditional statements\n",
        "#print(y == 4 and x == 2)\n",
        "#print(y == 4 or x == 2)\n",
        "#print(y == 7 and x == 2)\n",
        "x!= 1"
      ]
    },
    {
      "cell_type": "markdown",
      "id": "c86409be",
      "metadata": {
        "id": "c86409be"
      },
      "source": [
        "## Error Codes\n",
        "(...or How I learned to love my mistakes)"
      ]
    },
    {
      "cell_type": "code",
      "execution_count": null,
      "id": "85c73a82",
      "metadata": {
        "id": "85c73a82",
        "colab": {
          "base_uri": "https://localhost:8080/",
          "height": 35
        },
        "outputId": "d38f1b77-5051-4700-cd80-1fb4cf9b0ee4"
      },
      "outputs": [
        {
          "output_type": "execute_result",
          "data": {
            "text/plain": [
              "'the number three'"
            ],
            "application/vnd.google.colaboratory.intrinsic+json": {
              "type": "string"
            }
          },
          "metadata": {},
          "execution_count": 32
        }
      ],
      "source": [
        "z = \"the number three\"\n",
        "z"
      ]
    },
    {
      "cell_type": "code",
      "execution_count": null,
      "id": "a04ac3b8",
      "metadata": {
        "id": "a04ac3b8",
        "colab": {
          "base_uri": "https://localhost:8080/"
        },
        "outputId": "a6bc7368-5515-40b9-ce15-739c8ad170ef"
      },
      "outputs": [
        {
          "output_type": "execute_result",
          "data": {
            "text/plain": [
              "str"
            ]
          },
          "metadata": {},
          "execution_count": 33
        }
      ],
      "source": [
        "type(z)"
      ]
    },
    {
      "cell_type": "code",
      "execution_count": null,
      "id": "565b2c8b",
      "metadata": {
        "id": "565b2c8b",
        "colab": {
          "base_uri": "https://localhost:8080/",
          "height": 193
        },
        "outputId": "d4fee445-5de1-4391-f215-e649297706dc"
      },
      "outputs": [
        {
          "output_type": "error",
          "ename": "TypeError",
          "evalue": "ignored",
          "traceback": [
            "\u001b[0;31m---------------------------------------------------------------------------\u001b[0m",
            "\u001b[0;31mTypeError\u001b[0m                                 Traceback (most recent call last)",
            "\u001b[0;32m<ipython-input-34-7d719aa93104>\u001b[0m in \u001b[0;36m<cell line: 2>\u001b[0;34m()\u001b[0m\n\u001b[1;32m      1\u001b[0m \u001b[0;31m#You're gonna get a lot of errors while you're learning to code, and that's okay!\u001b[0m\u001b[0;34m\u001b[0m\u001b[0;34m\u001b[0m\u001b[0m\n\u001b[0;32m----> 2\u001b[0;31m \u001b[0mx\u001b[0m \u001b[0;34m+\u001b[0m \u001b[0mz\u001b[0m\u001b[0;34m\u001b[0m\u001b[0;34m\u001b[0m\u001b[0m\n\u001b[0m",
            "\u001b[0;31mTypeError\u001b[0m: unsupported operand type(s) for +: 'int' and 'str'"
          ]
        }
      ],
      "source": [
        "#You're gonna get a lot of errors while you're learning to code, and that's okay!\n",
        "x + z\n"
      ]
    },
    {
      "cell_type": "code",
      "execution_count": null,
      "id": "3db0dd1b",
      "metadata": {
        "id": "3db0dd1b",
        "colab": {
          "base_uri": "https://localhost:8080/"
        },
        "outputId": "0167cae9-faeb-4627-fd68-0751d5e8c861"
      },
      "outputs": [
        {
          "output_type": "execute_result",
          "data": {
            "text/plain": [
              "9"
            ]
          },
          "metadata": {},
          "execution_count": 35
        }
      ],
      "source": [
        "(x + y)"
      ]
    },
    {
      "cell_type": "code",
      "execution_count": null,
      "id": "81a376f6",
      "metadata": {
        "id": "81a376f6",
        "colab": {
          "base_uri": "https://localhost:8080/",
          "height": 175
        },
        "outputId": "fa7c2dfa-d21c-4bec-f072-a99a5e9827fa"
      },
      "outputs": [
        {
          "output_type": "error",
          "ename": "NameError",
          "evalue": "ignored",
          "traceback": [
            "\u001b[0;31m---------------------------------------------------------------------------\u001b[0m",
            "\u001b[0;31mNameError\u001b[0m                                 Traceback (most recent call last)",
            "\u001b[0;32m<ipython-input-36-00cf07b74dcd>\u001b[0m in \u001b[0;36m<cell line: 1>\u001b[0;34m()\u001b[0m\n\u001b[0;32m----> 1\u001b[0;31m \u001b[0mdf\u001b[0m\u001b[0;34m\u001b[0m\u001b[0;34m\u001b[0m\u001b[0m\n\u001b[0m",
            "\u001b[0;31mNameError\u001b[0m: name 'df' is not defined"
          ]
        }
      ],
      "source": [
        "df"
      ]
    },
    {
      "cell_type": "markdown",
      "id": "6b4466bd",
      "metadata": {
        "id": "6b4466bd"
      },
      "source": [
        "## Data Types"
      ]
    },
    {
      "cell_type": "code",
      "execution_count": null,
      "id": "b5c6826e",
      "metadata": {
        "id": "b5c6826e"
      },
      "outputs": [],
      "source": [
        "#integers\n",
        "10\n",
        "#floats\n",
        "10.2\n",
        "#strings\n",
        "\"It's Ishmael' statement\""
      ]
    },
    {
      "cell_type": "markdown",
      "id": "4c9a120c",
      "metadata": {
        "id": "4c9a120c"
      },
      "source": [
        "#### Lists\n",
        "Used to store multiple items in a single variable. List items are ordered (indexed), changeable, and allow duplicate values."
      ]
    },
    {
      "cell_type": "code",
      "execution_count": null,
      "id": "616b951a",
      "metadata": {
        "id": "616b951a",
        "colab": {
          "base_uri": "https://localhost:8080/"
        },
        "outputId": "cff0ff49-bfae-4375-bffd-661e4b356dc0"
      },
      "outputs": [
        {
          "output_type": "execute_result",
          "data": {
            "text/plain": [
              "['fall', 'winter', 'summer', 'spring']"
            ]
          },
          "metadata": {},
          "execution_count": 65
        }
      ],
      "source": [
        "season_list = ['fall', 'winter', 'summer', 'spring']\n",
        "season_list"
      ]
    },
    {
      "cell_type": "code",
      "execution_count": null,
      "id": "b4c68f7d",
      "metadata": {
        "id": "b4c68f7d",
        "colab": {
          "base_uri": "https://localhost:8080/"
        },
        "outputId": "802d2551-f468-42de-99a5-eddc1f4e071e"
      },
      "outputs": [
        {
          "output_type": "execute_result",
          "data": {
            "text/plain": [
              "['fall', 'winter', 'summer', 'spring', 'spring']"
            ]
          },
          "metadata": {},
          "execution_count": 38
        }
      ],
      "source": [
        "season_list = ['fall', 'winter', 'summer', 'spring', 'spring']\n",
        "season_list"
      ]
    },
    {
      "cell_type": "markdown",
      "id": "1ab4a2f1",
      "metadata": {
        "id": "1ab4a2f1"
      },
      "source": [
        "#### Sets\n",
        "Sets are unordered, unchangeable and unindexed."
      ]
    },
    {
      "cell_type": "code",
      "execution_count": null,
      "id": "f52fc965",
      "metadata": {
        "id": "f52fc965",
        "colab": {
          "base_uri": "https://localhost:8080/"
        },
        "outputId": "acd89515-6ba0-42fe-f3ef-21986cb3b1e9"
      },
      "outputs": [
        {
          "output_type": "execute_result",
          "data": {
            "text/plain": [
              "{'fall', 'spring', 'summer', 'winter'}"
            ]
          },
          "metadata": {},
          "execution_count": 39
        }
      ],
      "source": [
        "season_set = {'fall', 'winter', 'summer', 'spring'}\n",
        "season_set"
      ]
    },
    {
      "cell_type": "code",
      "execution_count": null,
      "id": "11e5c146",
      "metadata": {
        "id": "11e5c146",
        "colab": {
          "base_uri": "https://localhost:8080/"
        },
        "outputId": "8226101a-44fc-4a1e-e1fc-f6444ae7a029"
      },
      "outputs": [
        {
          "output_type": "execute_result",
          "data": {
            "text/plain": [
              "{'fall', 'spring', 'summer', 'winter'}"
            ]
          },
          "metadata": {},
          "execution_count": 40
        }
      ],
      "source": [
        "season_set = {'summer', 'fall', 'winter',  'spring', 'spring'}\n",
        "\n",
        "season_set"
      ]
    },
    {
      "cell_type": "markdown",
      "id": "147b257b",
      "metadata": {
        "id": "147b257b"
      },
      "source": [
        "#### Tuples\n",
        "Tuple items are ordered, unchangeable, and allow duplicate values."
      ]
    },
    {
      "cell_type": "code",
      "execution_count": null,
      "id": "5c5b06a3",
      "metadata": {
        "id": "5c5b06a3",
        "colab": {
          "base_uri": "https://localhost:8080/"
        },
        "outputId": "f1225597-9ed7-42e5-b5b4-1f7376f31000"
      },
      "outputs": [
        {
          "output_type": "execute_result",
          "data": {
            "text/plain": [
              "('fall', 'winter', 'summer', 'spring', 'spring')"
            ]
          },
          "metadata": {},
          "execution_count": 41
        }
      ],
      "source": [
        "season_tuple = ('fall', 'winter', 'summer', 'spring', 'spring')\n",
        "season_tuple"
      ]
    },
    {
      "cell_type": "code",
      "execution_count": null,
      "id": "bb93a8fa",
      "metadata": {
        "id": "bb93a8fa",
        "colab": {
          "base_uri": "https://localhost:8080/"
        },
        "outputId": "11666fdb-2607-46a2-d8a0-743c0249b3d3"
      },
      "outputs": [
        {
          "output_type": "execute_result",
          "data": {
            "text/plain": [
              "('fall', 'winter', 'summer', 'spring', 'spring')"
            ]
          },
          "metadata": {},
          "execution_count": 42
        }
      ],
      "source": [
        "season_tuple"
      ]
    },
    {
      "cell_type": "markdown",
      "id": "fc042d03",
      "metadata": {
        "id": "fc042d03"
      },
      "source": [
        "**Tuple Unpacking**"
      ]
    },
    {
      "cell_type": "code",
      "execution_count": null,
      "id": "626ac6d1",
      "metadata": {
        "id": "626ac6d1",
        "colab": {
          "base_uri": "https://localhost:8080/",
          "height": 35
        },
        "outputId": "4ff60413-5d2e-4af9-f39e-46ebc95b12fb"
      },
      "outputs": [
        {
          "output_type": "execute_result",
          "data": {
            "text/plain": [
              "'fall'"
            ],
            "application/vnd.google.colaboratory.intrinsic+json": {
              "type": "string"
            }
          },
          "metadata": {},
          "execution_count": 43
        }
      ],
      "source": [
        "season1, season2, season3, season4, season5 = season_tuple\n",
        "season1"
      ]
    },
    {
      "cell_type": "markdown",
      "id": "a15eddf3",
      "metadata": {
        "id": "a15eddf3"
      },
      "source": [
        "#### Dictionaries\n",
        "\n",
        "Dictionaries store values in key:value pairs. The are ordered, changeable and do not allow duplicates."
      ]
    },
    {
      "cell_type": "code",
      "execution_count": null,
      "id": "ef36c64f",
      "metadata": {
        "id": "ef36c64f",
        "colab": {
          "base_uri": "https://localhost:8080/"
        },
        "outputId": "b942832b-9801-4e6a-cc07-e2e0aca8f8e8"
      },
      "outputs": [
        {
          "output_type": "execute_result",
          "data": {
            "text/plain": [
              "{'winter': 'cold', 'summer': 'hot', 'fall': 'colorful'}"
            ]
          },
          "metadata": {},
          "execution_count": 59
        }
      ],
      "source": [
        "\n",
        "season_dict = {\"winter\" : 'cold', 'summer' : 'hot', 'fall' : 'colorful'}\n",
        "season_dict"
      ]
    },
    {
      "cell_type": "code",
      "execution_count": null,
      "id": "fa951fa6",
      "metadata": {
        "id": "fa951fa6",
        "colab": {
          "base_uri": "https://localhost:8080/"
        },
        "outputId": "46b6d7a7-235b-4f3b-c599-39c143c38b74"
      },
      "outputs": [
        {
          "output_type": "execute_result",
          "data": {
            "text/plain": [
              "{'winter': 'cold', 'summer': 'humid', 'fall': 'colorful'}"
            ]
          },
          "metadata": {},
          "execution_count": 61
        }
      ],
      "source": [
        "season_dict = {\"winter\" : 'cold', 'summer' : 'hot', 'fall' : 'colorful', 'summer': 'humid'}\n",
        "season_dict"
      ]
    },
    {
      "cell_type": "code",
      "execution_count": null,
      "id": "623c8cad",
      "metadata": {
        "id": "623c8cad"
      },
      "outputs": [],
      "source": []
    },
    {
      "cell_type": "markdown",
      "id": "fd236ec6",
      "metadata": {
        "id": "fd236ec6"
      },
      "source": [
        "## Object Methods and How To Use Them\n",
        "Use those keyboard shortcuts! <br>\n",
        "Jupyter Notebook -> Tab after period<br>\n",
        "Colab -> Cursor hover after period"
      ]
    },
    {
      "cell_type": "code",
      "execution_count": null,
      "id": "b482c3cc",
      "metadata": {
        "id": "b482c3cc",
        "colab": {
          "base_uri": "https://localhost:8080/",
          "height": 35
        },
        "outputId": "485447b4-1518-40d4-cff8-90481f1423bb"
      },
      "outputs": [
        {
          "output_type": "execute_result",
          "data": {
            "text/plain": [
              "'spring'"
            ],
            "application/vnd.google.colaboratory.intrinsic+json": {
              "type": "string"
            }
          },
          "metadata": {},
          "execution_count": 47
        }
      ],
      "source": [
        "#some changes happen in place\n",
        "#pop\n",
        "season_list.pop()"
      ]
    },
    {
      "cell_type": "code",
      "source": [
        "season_list"
      ],
      "metadata": {
        "colab": {
          "base_uri": "https://localhost:8080/"
        },
        "id": "KQaClXU5bYsK",
        "outputId": "8dc475f2-b893-44a0-cda9-9a2ce32ca4d1"
      },
      "id": "KQaClXU5bYsK",
      "execution_count": null,
      "outputs": [
        {
          "output_type": "execute_result",
          "data": {
            "text/plain": [
              "['fall', 'winter', 'summer', 'spring']"
            ]
          },
          "metadata": {},
          "execution_count": 48
        }
      ]
    },
    {
      "cell_type": "code",
      "execution_count": null,
      "id": "66879b10",
      "metadata": {
        "id": "66879b10",
        "colab": {
          "base_uri": "https://localhost:8080/"
        },
        "outputId": "9859804e-acb6-455a-af6b-19c176025e77"
      },
      "outputs": [
        {
          "output_type": "execute_result",
          "data": {
            "text/plain": [
              "dict_values(['cold', 'humid', 'colorful'])"
            ]
          },
          "metadata": {},
          "execution_count": 50
        }
      ],
      "source": [
        "#keys\n",
        "season_dict.keys()\n",
        "season_dict.values()"
      ]
    },
    {
      "cell_type": "code",
      "execution_count": null,
      "id": "cbb7f5d6",
      "metadata": {
        "id": "cbb7f5d6",
        "colab": {
          "base_uri": "https://localhost:8080/",
          "height": 35
        },
        "outputId": "edb6c873-4876-4e69-b1ba-09ed16c04729"
      },
      "outputs": [
        {
          "output_type": "execute_result",
          "data": {
            "text/plain": [
              "'humid'"
            ],
            "application/vnd.google.colaboratory.intrinsic+json": {
              "type": "string"
            }
          },
          "metadata": {},
          "execution_count": 51
        }
      ],
      "source": [
        "#pop\n",
        "season_dict.pop('summer')"
      ]
    },
    {
      "cell_type": "code",
      "execution_count": null,
      "id": "78715f59",
      "metadata": {
        "id": "78715f59"
      },
      "outputs": [],
      "source": [
        "#clear\n",
        "season_dict.clear()"
      ]
    },
    {
      "cell_type": "code",
      "source": [
        "season_dict"
      ],
      "metadata": {
        "colab": {
          "base_uri": "https://localhost:8080/"
        },
        "id": "NO9b7pMpcODT",
        "outputId": "90e8f96c-31d5-4bc3-8b8a-3506ef90c333"
      },
      "id": "NO9b7pMpcODT",
      "execution_count": null,
      "outputs": [
        {
          "output_type": "execute_result",
          "data": {
            "text/plain": [
              "{}"
            ]
          },
          "metadata": {},
          "execution_count": 54
        }
      ]
    },
    {
      "cell_type": "markdown",
      "id": "22b240e0",
      "metadata": {
        "id": "22b240e0"
      },
      "source": [
        "## Indexing"
      ]
    },
    {
      "cell_type": "code",
      "execution_count": null,
      "id": "080082e3",
      "metadata": {
        "id": "080082e3",
        "colab": {
          "base_uri": "https://localhost:8080/",
          "height": 35
        },
        "outputId": "80c50d5b-f011-4f35-89eb-5e2c6beef485"
      },
      "outputs": [
        {
          "output_type": "execute_result",
          "data": {
            "text/plain": [
              "'eoo'"
            ],
            "application/vnd.google.colaboratory.intrinsic+json": {
              "type": "string"
            }
          },
          "metadata": {},
          "execution_count": 58
        }
      ],
      "source": [
        "season_list[1]\n",
        "string_object = \"Hello world\"\n",
        "string_object[1:5]\n",
        "string_object[1:10:3]"
      ]
    },
    {
      "cell_type": "code",
      "execution_count": null,
      "id": "7e875866",
      "metadata": {
        "id": "7e875866",
        "colab": {
          "base_uri": "https://localhost:8080/",
          "height": 35
        },
        "outputId": "33fa9c50-0dae-4628-8639-402df34f647b"
      },
      "outputs": [
        {
          "output_type": "execute_result",
          "data": {
            "text/plain": [
              "'colorful'"
            ],
            "application/vnd.google.colaboratory.intrinsic+json": {
              "type": "string"
            }
          },
          "metadata": {},
          "execution_count": 64
        }
      ],
      "source": [
        "season_dict['summer']\n",
        "season_dict['fall']"
      ]
    },
    {
      "cell_type": "code",
      "execution_count": null,
      "id": "f2c41baf",
      "metadata": {
        "id": "f2c41baf"
      },
      "outputs": [],
      "source": []
    },
    {
      "cell_type": "markdown",
      "id": "b2fa83ab",
      "metadata": {
        "id": "b2fa83ab"
      },
      "source": [
        "## Loops"
      ]
    },
    {
      "cell_type": "code",
      "execution_count": null,
      "id": "acfcd571",
      "metadata": {
        "id": "acfcd571"
      },
      "outputs": [],
      "source": [
        "type(season_list[1])\n",
        "\n",
        "season_dict['summer']\n",
        "season_list.sort()\n",
        "season_list\n",
        "\n",
        "#for season in season_list:\n",
        "#  print(season.capitalize())\n",
        "\n",
        "Capitalized_season_list = []\n",
        "for season in season_list:\n",
        "  Capitalized_season_list.append(season.capitalize())"
      ]
    },
    {
      "cell_type": "code",
      "execution_count": null,
      "id": "43676f14",
      "metadata": {
        "id": "43676f14",
        "colab": {
          "base_uri": "https://localhost:8080/"
        },
        "outputId": "0d2aca78-3f38-4e94-cf57-eb68fe0bbdba"
      },
      "outputs": [
        {
          "output_type": "execute_result",
          "data": {
            "text/plain": [
              "['Fall', 'Spring', 'Summer', 'Winter']"
            ]
          },
          "metadata": {},
          "execution_count": 75
        }
      ],
      "source": [
        "Capitalized_season_list"
      ]
    },
    {
      "cell_type": "markdown",
      "id": "d4bf496b",
      "metadata": {
        "id": "d4bf496b"
      },
      "source": [
        "## Conditionals"
      ]
    },
    {
      "cell_type": "code",
      "execution_count": null,
      "id": "55f747e6",
      "metadata": {
        "id": "55f747e6",
        "colab": {
          "base_uri": "https://localhost:8080/"
        },
        "outputId": "785fe193-48fb-4a7c-91a8-75f7ff62d2ec"
      },
      "outputs": [
        {
          "output_type": "execute_result",
          "data": {
            "text/plain": [
              "False"
            ]
          },
          "metadata": {},
          "execution_count": 77
        }
      ],
      "source": [
        "y > 7"
      ]
    },
    {
      "cell_type": "code",
      "execution_count": null,
      "id": "7a35dd0c",
      "metadata": {
        "id": "7a35dd0c",
        "colab": {
          "base_uri": "https://localhost:8080/"
        },
        "outputId": "059bbe2e-b665-4a70-e203-82f1e769a15b"
      },
      "outputs": [
        {
          "output_type": "stream",
          "name": "stdout",
          "text": [
            "Y is not greater than 8\n"
          ]
        }
      ],
      "source": [
        "if y > 8:\n",
        "  print(\"Y is greater tha 8.\")\n",
        "else:\n",
        "  print(\"Y is not greater than 8\")"
      ]
    },
    {
      "cell_type": "code",
      "execution_count": null,
      "id": "ca05f1b2",
      "metadata": {
        "id": "ca05f1b2",
        "colab": {
          "base_uri": "https://localhost:8080/"
        },
        "outputId": "77eba096-070c-4a96-98bc-22fbcb7e06af"
      },
      "outputs": [
        {
          "output_type": "stream",
          "name": "stdout",
          "text": [
            "Y is lesser than 10\n"
          ]
        }
      ],
      "source": [
        "if y > 10:\n",
        "  print(\"Y is greater tha 10.\")\n",
        "elif y < 10:\n",
        "  print(\"Y is lesser than 10\")\n",
        "elif y == 10:\n",
        "  print(\"Y is equal to 10\")\n",
        "else:\n",
        "  print(\"Y is not greater than 10\")"
      ]
    },
    {
      "cell_type": "code",
      "execution_count": null,
      "id": "216654a2",
      "metadata": {
        "id": "216654a2"
      },
      "outputs": [],
      "source": []
    },
    {
      "cell_type": "code",
      "execution_count": null,
      "id": "c67825b1",
      "metadata": {
        "id": "c67825b1"
      },
      "outputs": [],
      "source": [
        "#create empty lists\n",
        "empty_list = []"
      ]
    },
    {
      "cell_type": "code",
      "execution_count": null,
      "id": "5dcdb611",
      "metadata": {
        "id": "5dcdb611",
        "colab": {
          "base_uri": "https://localhost:8080/"
        },
        "outputId": "35540a01-8be7-4253-f9fc-14c5b6a307c9"
      },
      "outputs": [
        {
          "output_type": "stream",
          "name": "stdout",
          "text": [
            "My value for number1 is 2.\n",
            "My value for numbery is 7.\n"
          ]
        },
        {
          "output_type": "execute_result",
          "data": {
            "text/plain": [
              "9"
            ]
          },
          "metadata": {},
          "execution_count": 84
        }
      ],
      "source": [
        "def sums_two_values(number1, number2):\n",
        "  print(f'My value for number1 is {x}.')\n",
        "  print(f'My value for numbery is {y}.')\n",
        "  return number1 + number2\n",
        "\n",
        "sums_two_values(x, y)\n"
      ]
    },
    {
      "cell_type": "code",
      "execution_count": null,
      "id": "02770b1e",
      "metadata": {
        "id": "02770b1e"
      },
      "outputs": [],
      "source": []
    },
    {
      "cell_type": "markdown",
      "id": "3767aa2d",
      "metadata": {
        "id": "3767aa2d"
      },
      "source": [
        "## Imports"
      ]
    },
    {
      "cell_type": "code",
      "execution_count": null,
      "id": "81be78ca",
      "metadata": {
        "id": "81be78ca"
      },
      "outputs": [],
      "source": [
        "\n"
      ]
    },
    {
      "cell_type": "markdown",
      "id": "bcc9d485",
      "metadata": {
        "id": "bcc9d485"
      },
      "source": [
        "The most popular data science libraries are numpy, pandas and matplotlib (for visualizations)"
      ]
    },
    {
      "cell_type": "code",
      "execution_count": null,
      "id": "5a21459d",
      "metadata": {
        "id": "5a21459d"
      },
      "outputs": [],
      "source": [
        "import pandas as pd\n",
        "\n"
      ]
    },
    {
      "cell_type": "code",
      "execution_count": null,
      "id": "e004ea6b",
      "metadata": {
        "id": "e004ea6b"
      },
      "outputs": [],
      "source": [
        "import seaborn as sns"
      ]
    },
    {
      "cell_type": "code",
      "execution_count": null,
      "id": "196fc5bb",
      "metadata": {
        "id": "196fc5bb",
        "colab": {
          "base_uri": "https://localhost:8080/",
          "height": 424
        },
        "outputId": "bde9c25f-d54c-4329-c291-86e61282a213"
      },
      "outputs": [
        {
          "output_type": "execute_result",
          "data": {
            "text/plain": [
              "       carat        cut color clarity  depth  table  price     x     y     z\n",
              "0       0.23      Ideal     E     SI2   61.5   55.0    326  3.95  3.98  2.43\n",
              "1       0.21    Premium     E     SI1   59.8   61.0    326  3.89  3.84  2.31\n",
              "2       0.23       Good     E     VS1   56.9   65.0    327  4.05  4.07  2.31\n",
              "3       0.29    Premium     I     VS2   62.4   58.0    334  4.20  4.23  2.63\n",
              "4       0.31       Good     J     SI2   63.3   58.0    335  4.34  4.35  2.75\n",
              "...      ...        ...   ...     ...    ...    ...    ...   ...   ...   ...\n",
              "53935   0.72      Ideal     D     SI1   60.8   57.0   2757  5.75  5.76  3.50\n",
              "53936   0.72       Good     D     SI1   63.1   55.0   2757  5.69  5.75  3.61\n",
              "53937   0.70  Very Good     D     SI1   62.8   60.0   2757  5.66  5.68  3.56\n",
              "53938   0.86    Premium     H     SI2   61.0   58.0   2757  6.15  6.12  3.74\n",
              "53939   0.75      Ideal     D     SI2   62.2   55.0   2757  5.83  5.87  3.64\n",
              "\n",
              "[53940 rows x 10 columns]"
            ],
            "text/html": [
              "\n",
              "  <div id=\"df-f03ae251-2a08-4163-9f1c-f29c36ffd1d8\" class=\"colab-df-container\">\n",
              "    <div>\n",
              "<style scoped>\n",
              "    .dataframe tbody tr th:only-of-type {\n",
              "        vertical-align: middle;\n",
              "    }\n",
              "\n",
              "    .dataframe tbody tr th {\n",
              "        vertical-align: top;\n",
              "    }\n",
              "\n",
              "    .dataframe thead th {\n",
              "        text-align: right;\n",
              "    }\n",
              "</style>\n",
              "<table border=\"1\" class=\"dataframe\">\n",
              "  <thead>\n",
              "    <tr style=\"text-align: right;\">\n",
              "      <th></th>\n",
              "      <th>carat</th>\n",
              "      <th>cut</th>\n",
              "      <th>color</th>\n",
              "      <th>clarity</th>\n",
              "      <th>depth</th>\n",
              "      <th>table</th>\n",
              "      <th>price</th>\n",
              "      <th>x</th>\n",
              "      <th>y</th>\n",
              "      <th>z</th>\n",
              "    </tr>\n",
              "  </thead>\n",
              "  <tbody>\n",
              "    <tr>\n",
              "      <th>0</th>\n",
              "      <td>0.23</td>\n",
              "      <td>Ideal</td>\n",
              "      <td>E</td>\n",
              "      <td>SI2</td>\n",
              "      <td>61.5</td>\n",
              "      <td>55.0</td>\n",
              "      <td>326</td>\n",
              "      <td>3.95</td>\n",
              "      <td>3.98</td>\n",
              "      <td>2.43</td>\n",
              "    </tr>\n",
              "    <tr>\n",
              "      <th>1</th>\n",
              "      <td>0.21</td>\n",
              "      <td>Premium</td>\n",
              "      <td>E</td>\n",
              "      <td>SI1</td>\n",
              "      <td>59.8</td>\n",
              "      <td>61.0</td>\n",
              "      <td>326</td>\n",
              "      <td>3.89</td>\n",
              "      <td>3.84</td>\n",
              "      <td>2.31</td>\n",
              "    </tr>\n",
              "    <tr>\n",
              "      <th>2</th>\n",
              "      <td>0.23</td>\n",
              "      <td>Good</td>\n",
              "      <td>E</td>\n",
              "      <td>VS1</td>\n",
              "      <td>56.9</td>\n",
              "      <td>65.0</td>\n",
              "      <td>327</td>\n",
              "      <td>4.05</td>\n",
              "      <td>4.07</td>\n",
              "      <td>2.31</td>\n",
              "    </tr>\n",
              "    <tr>\n",
              "      <th>3</th>\n",
              "      <td>0.29</td>\n",
              "      <td>Premium</td>\n",
              "      <td>I</td>\n",
              "      <td>VS2</td>\n",
              "      <td>62.4</td>\n",
              "      <td>58.0</td>\n",
              "      <td>334</td>\n",
              "      <td>4.20</td>\n",
              "      <td>4.23</td>\n",
              "      <td>2.63</td>\n",
              "    </tr>\n",
              "    <tr>\n",
              "      <th>4</th>\n",
              "      <td>0.31</td>\n",
              "      <td>Good</td>\n",
              "      <td>J</td>\n",
              "      <td>SI2</td>\n",
              "      <td>63.3</td>\n",
              "      <td>58.0</td>\n",
              "      <td>335</td>\n",
              "      <td>4.34</td>\n",
              "      <td>4.35</td>\n",
              "      <td>2.75</td>\n",
              "    </tr>\n",
              "    <tr>\n",
              "      <th>...</th>\n",
              "      <td>...</td>\n",
              "      <td>...</td>\n",
              "      <td>...</td>\n",
              "      <td>...</td>\n",
              "      <td>...</td>\n",
              "      <td>...</td>\n",
              "      <td>...</td>\n",
              "      <td>...</td>\n",
              "      <td>...</td>\n",
              "      <td>...</td>\n",
              "    </tr>\n",
              "    <tr>\n",
              "      <th>53935</th>\n",
              "      <td>0.72</td>\n",
              "      <td>Ideal</td>\n",
              "      <td>D</td>\n",
              "      <td>SI1</td>\n",
              "      <td>60.8</td>\n",
              "      <td>57.0</td>\n",
              "      <td>2757</td>\n",
              "      <td>5.75</td>\n",
              "      <td>5.76</td>\n",
              "      <td>3.50</td>\n",
              "    </tr>\n",
              "    <tr>\n",
              "      <th>53936</th>\n",
              "      <td>0.72</td>\n",
              "      <td>Good</td>\n",
              "      <td>D</td>\n",
              "      <td>SI1</td>\n",
              "      <td>63.1</td>\n",
              "      <td>55.0</td>\n",
              "      <td>2757</td>\n",
              "      <td>5.69</td>\n",
              "      <td>5.75</td>\n",
              "      <td>3.61</td>\n",
              "    </tr>\n",
              "    <tr>\n",
              "      <th>53937</th>\n",
              "      <td>0.70</td>\n",
              "      <td>Very Good</td>\n",
              "      <td>D</td>\n",
              "      <td>SI1</td>\n",
              "      <td>62.8</td>\n",
              "      <td>60.0</td>\n",
              "      <td>2757</td>\n",
              "      <td>5.66</td>\n",
              "      <td>5.68</td>\n",
              "      <td>3.56</td>\n",
              "    </tr>\n",
              "    <tr>\n",
              "      <th>53938</th>\n",
              "      <td>0.86</td>\n",
              "      <td>Premium</td>\n",
              "      <td>H</td>\n",
              "      <td>SI2</td>\n",
              "      <td>61.0</td>\n",
              "      <td>58.0</td>\n",
              "      <td>2757</td>\n",
              "      <td>6.15</td>\n",
              "      <td>6.12</td>\n",
              "      <td>3.74</td>\n",
              "    </tr>\n",
              "    <tr>\n",
              "      <th>53939</th>\n",
              "      <td>0.75</td>\n",
              "      <td>Ideal</td>\n",
              "      <td>D</td>\n",
              "      <td>SI2</td>\n",
              "      <td>62.2</td>\n",
              "      <td>55.0</td>\n",
              "      <td>2757</td>\n",
              "      <td>5.83</td>\n",
              "      <td>5.87</td>\n",
              "      <td>3.64</td>\n",
              "    </tr>\n",
              "  </tbody>\n",
              "</table>\n",
              "<p>53940 rows × 10 columns</p>\n",
              "</div>\n",
              "    <div class=\"colab-df-buttons\">\n",
              "\n",
              "  <div class=\"colab-df-container\">\n",
              "    <button class=\"colab-df-convert\" onclick=\"convertToInteractive('df-f03ae251-2a08-4163-9f1c-f29c36ffd1d8')\"\n",
              "            title=\"Convert this dataframe to an interactive table.\"\n",
              "            style=\"display:none;\">\n",
              "\n",
              "  <svg xmlns=\"http://www.w3.org/2000/svg\" height=\"24px\" viewBox=\"0 -960 960 960\">\n",
              "    <path d=\"M120-120v-720h720v720H120Zm60-500h600v-160H180v160Zm220 220h160v-160H400v160Zm0 220h160v-160H400v160ZM180-400h160v-160H180v160Zm440 0h160v-160H620v160ZM180-180h160v-160H180v160Zm440 0h160v-160H620v160Z\"/>\n",
              "  </svg>\n",
              "    </button>\n",
              "\n",
              "  <style>\n",
              "    .colab-df-container {\n",
              "      display:flex;\n",
              "      gap: 12px;\n",
              "    }\n",
              "\n",
              "    .colab-df-convert {\n",
              "      background-color: #E8F0FE;\n",
              "      border: none;\n",
              "      border-radius: 50%;\n",
              "      cursor: pointer;\n",
              "      display: none;\n",
              "      fill: #1967D2;\n",
              "      height: 32px;\n",
              "      padding: 0 0 0 0;\n",
              "      width: 32px;\n",
              "    }\n",
              "\n",
              "    .colab-df-convert:hover {\n",
              "      background-color: #E2EBFA;\n",
              "      box-shadow: 0px 1px 2px rgba(60, 64, 67, 0.3), 0px 1px 3px 1px rgba(60, 64, 67, 0.15);\n",
              "      fill: #174EA6;\n",
              "    }\n",
              "\n",
              "    .colab-df-buttons div {\n",
              "      margin-bottom: 4px;\n",
              "    }\n",
              "\n",
              "    [theme=dark] .colab-df-convert {\n",
              "      background-color: #3B4455;\n",
              "      fill: #D2E3FC;\n",
              "    }\n",
              "\n",
              "    [theme=dark] .colab-df-convert:hover {\n",
              "      background-color: #434B5C;\n",
              "      box-shadow: 0px 1px 3px 1px rgba(0, 0, 0, 0.15);\n",
              "      filter: drop-shadow(0px 1px 2px rgba(0, 0, 0, 0.3));\n",
              "      fill: #FFFFFF;\n",
              "    }\n",
              "  </style>\n",
              "\n",
              "    <script>\n",
              "      const buttonEl =\n",
              "        document.querySelector('#df-f03ae251-2a08-4163-9f1c-f29c36ffd1d8 button.colab-df-convert');\n",
              "      buttonEl.style.display =\n",
              "        google.colab.kernel.accessAllowed ? 'block' : 'none';\n",
              "\n",
              "      async function convertToInteractive(key) {\n",
              "        const element = document.querySelector('#df-f03ae251-2a08-4163-9f1c-f29c36ffd1d8');\n",
              "        const dataTable =\n",
              "          await google.colab.kernel.invokeFunction('convertToInteractive',\n",
              "                                                    [key], {});\n",
              "        if (!dataTable) return;\n",
              "\n",
              "        const docLinkHtml = 'Like what you see? Visit the ' +\n",
              "          '<a target=\"_blank\" href=https://colab.research.google.com/notebooks/data_table.ipynb>data table notebook</a>'\n",
              "          + ' to learn more about interactive tables.';\n",
              "        element.innerHTML = '';\n",
              "        dataTable['output_type'] = 'display_data';\n",
              "        await google.colab.output.renderOutput(dataTable, element);\n",
              "        const docLink = document.createElement('div');\n",
              "        docLink.innerHTML = docLinkHtml;\n",
              "        element.appendChild(docLink);\n",
              "      }\n",
              "    </script>\n",
              "  </div>\n",
              "\n",
              "\n",
              "<div id=\"df-3c3d995a-15cf-4210-b49b-79cf61121b73\">\n",
              "  <button class=\"colab-df-quickchart\" onclick=\"quickchart('df-3c3d995a-15cf-4210-b49b-79cf61121b73')\"\n",
              "            title=\"Suggest charts.\"\n",
              "            style=\"display:none;\">\n",
              "\n",
              "<svg xmlns=\"http://www.w3.org/2000/svg\" height=\"24px\"viewBox=\"0 0 24 24\"\n",
              "     width=\"24px\">\n",
              "    <g>\n",
              "        <path d=\"M19 3H5c-1.1 0-2 .9-2 2v14c0 1.1.9 2 2 2h14c1.1 0 2-.9 2-2V5c0-1.1-.9-2-2-2zM9 17H7v-7h2v7zm4 0h-2V7h2v10zm4 0h-2v-4h2v4z\"/>\n",
              "    </g>\n",
              "</svg>\n",
              "  </button>\n",
              "\n",
              "<style>\n",
              "  .colab-df-quickchart {\n",
              "      --bg-color: #E8F0FE;\n",
              "      --fill-color: #1967D2;\n",
              "      --hover-bg-color: #E2EBFA;\n",
              "      --hover-fill-color: #174EA6;\n",
              "      --disabled-fill-color: #AAA;\n",
              "      --disabled-bg-color: #DDD;\n",
              "  }\n",
              "\n",
              "  [theme=dark] .colab-df-quickchart {\n",
              "      --bg-color: #3B4455;\n",
              "      --fill-color: #D2E3FC;\n",
              "      --hover-bg-color: #434B5C;\n",
              "      --hover-fill-color: #FFFFFF;\n",
              "      --disabled-bg-color: #3B4455;\n",
              "      --disabled-fill-color: #666;\n",
              "  }\n",
              "\n",
              "  .colab-df-quickchart {\n",
              "    background-color: var(--bg-color);\n",
              "    border: none;\n",
              "    border-radius: 50%;\n",
              "    cursor: pointer;\n",
              "    display: none;\n",
              "    fill: var(--fill-color);\n",
              "    height: 32px;\n",
              "    padding: 0;\n",
              "    width: 32px;\n",
              "  }\n",
              "\n",
              "  .colab-df-quickchart:hover {\n",
              "    background-color: var(--hover-bg-color);\n",
              "    box-shadow: 0 1px 2px rgba(60, 64, 67, 0.3), 0 1px 3px 1px rgba(60, 64, 67, 0.15);\n",
              "    fill: var(--button-hover-fill-color);\n",
              "  }\n",
              "\n",
              "  .colab-df-quickchart-complete:disabled,\n",
              "  .colab-df-quickchart-complete:disabled:hover {\n",
              "    background-color: var(--disabled-bg-color);\n",
              "    fill: var(--disabled-fill-color);\n",
              "    box-shadow: none;\n",
              "  }\n",
              "\n",
              "  .colab-df-spinner {\n",
              "    border: 2px solid var(--fill-color);\n",
              "    border-color: transparent;\n",
              "    border-bottom-color: var(--fill-color);\n",
              "    animation:\n",
              "      spin 1s steps(1) infinite;\n",
              "  }\n",
              "\n",
              "  @keyframes spin {\n",
              "    0% {\n",
              "      border-color: transparent;\n",
              "      border-bottom-color: var(--fill-color);\n",
              "      border-left-color: var(--fill-color);\n",
              "    }\n",
              "    20% {\n",
              "      border-color: transparent;\n",
              "      border-left-color: var(--fill-color);\n",
              "      border-top-color: var(--fill-color);\n",
              "    }\n",
              "    30% {\n",
              "      border-color: transparent;\n",
              "      border-left-color: var(--fill-color);\n",
              "      border-top-color: var(--fill-color);\n",
              "      border-right-color: var(--fill-color);\n",
              "    }\n",
              "    40% {\n",
              "      border-color: transparent;\n",
              "      border-right-color: var(--fill-color);\n",
              "      border-top-color: var(--fill-color);\n",
              "    }\n",
              "    60% {\n",
              "      border-color: transparent;\n",
              "      border-right-color: var(--fill-color);\n",
              "    }\n",
              "    80% {\n",
              "      border-color: transparent;\n",
              "      border-right-color: var(--fill-color);\n",
              "      border-bottom-color: var(--fill-color);\n",
              "    }\n",
              "    90% {\n",
              "      border-color: transparent;\n",
              "      border-bottom-color: var(--fill-color);\n",
              "    }\n",
              "  }\n",
              "</style>\n",
              "\n",
              "  <script>\n",
              "    async function quickchart(key) {\n",
              "      const quickchartButtonEl =\n",
              "        document.querySelector('#' + key + ' button');\n",
              "      quickchartButtonEl.disabled = true;  // To prevent multiple clicks.\n",
              "      quickchartButtonEl.classList.add('colab-df-spinner');\n",
              "      try {\n",
              "        const charts = await google.colab.kernel.invokeFunction(\n",
              "            'suggestCharts', [key], {});\n",
              "      } catch (error) {\n",
              "        console.error('Error during call to suggestCharts:', error);\n",
              "      }\n",
              "      quickchartButtonEl.classList.remove('colab-df-spinner');\n",
              "      quickchartButtonEl.classList.add('colab-df-quickchart-complete');\n",
              "    }\n",
              "    (() => {\n",
              "      let quickchartButtonEl =\n",
              "        document.querySelector('#df-3c3d995a-15cf-4210-b49b-79cf61121b73 button');\n",
              "      quickchartButtonEl.style.display =\n",
              "        google.colab.kernel.accessAllowed ? 'block' : 'none';\n",
              "    })();\n",
              "  </script>\n",
              "</div>\n",
              "    </div>\n",
              "  </div>\n"
            ]
          },
          "metadata": {},
          "execution_count": 88
        }
      ],
      "source": [
        "sns.load_dataset('diamonds')"
      ]
    },
    {
      "cell_type": "code",
      "execution_count": null,
      "id": "1580756e",
      "metadata": {
        "id": "1580756e",
        "colab": {
          "base_uri": "https://localhost:8080/"
        },
        "outputId": "5409f995-c587-453f-ea63-0f78984e67d5"
      },
      "outputs": [
        {
          "output_type": "execute_result",
          "data": {
            "text/plain": [
              "array(['the number 10', 'the number 10', 'the number 10', 'the number 10',\n",
              "       'the number 10', 'the number 10', 'the number 10', 'the number 10',\n",
              "       'the number 10', 'the number 10'], dtype='<U13')"
            ]
          },
          "metadata": {},
          "execution_count": 89
        }
      ],
      "source": [
        "import numpy as np\n",
        "np.repeat(\"the number 10\", 10)"
      ]
    },
    {
      "cell_type": "code",
      "execution_count": null,
      "id": "59b1874c",
      "metadata": {
        "id": "59b1874c"
      },
      "outputs": [],
      "source": []
    },
    {
      "cell_type": "code",
      "execution_count": null,
      "id": "d2c6693e",
      "metadata": {
        "id": "d2c6693e"
      },
      "outputs": [],
      "source": []
    },
    {
      "cell_type": "code",
      "execution_count": null,
      "id": "4813e8e5",
      "metadata": {
        "id": "4813e8e5"
      },
      "outputs": [],
      "source": []
    }
  ],
  "metadata": {
    "kernelspec": {
      "display_name": "Python 3",
      "language": "python",
      "name": "python3"
    },
    "language_info": {
      "codemirror_mode": {
        "name": "ipython",
        "version": 3
      },
      "file_extension": ".py",
      "mimetype": "text/x-python",
      "name": "python",
      "nbconvert_exporter": "python",
      "pygments_lexer": "ipython3",
      "version": "3.8.8"
    },
    "colab": {
      "provenance": [],
      "include_colab_link": true
    }
  },
  "nbformat": 4,
  "nbformat_minor": 5
}